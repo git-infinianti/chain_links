{
 "cells": [
  {
   "cell_type": "code",
   "execution_count": 1,
   "metadata": {},
   "outputs": [],
   "source": [
    "import pickledb\n",
    "from hdwallet import BIP141HDWallet\n",
    "from hdwallet.symbols import RVN\n",
    "from hdwallet.cryptocurrencies import get_cryptocurrency\n",
    "from src.chain_params import burn_rvn\n",
    "from src.rpc import RPC, get_address_utxos\n",
    "from __data__ import credentials, mnemonic, settings\n",
    "\n",
    "\n",
    "rpc = RPC(credentials['username'], credentials['password'], 8766)\n",
    "lang = settings['language']\n",
    "pword = settings['password']\n",
    "phrase = mnemonic[-1]"
   ]
  },
  {
   "cell_type": "code",
   "execution_count": 4,
   "metadata": {},
   "outputs": [
    {
     "data": {
      "text/plain": [
       "10.80463352"
      ]
     },
     "execution_count": 4,
     "metadata": {},
     "output_type": "execute_result"
    }
   ],
   "source": [
    "rpc.getbalance('')\n"
   ]
  },
  {
   "cell_type": "code",
   "execution_count": null,
   "metadata": {},
   "outputs": [],
   "source": [
    "from json import dump\n",
    "def mkassetdb(path):\n",
    "    all_assets = rpc.listassets('*', True)\n",
    "    with open(path, 'w') as file:\n",
    "        dump(all_assets, file)"
   ]
  },
  {
   "cell_type": "code",
   "execution_count": 48,
   "metadata": {},
   "outputs": [],
   "source": [
    "db = pickledb.load('rvn_assets.json', True)\n",
    "search = 'ENO'\n",
    "\n",
    "if db.exists(search): print(db.get(search))\n",
    "else: (db.set(key, value) for key, value in rpc.listassets(search, True).items())\n"
   ]
  },
  {
   "cell_type": "code",
   "execution_count": 49,
   "metadata": {},
   "outputs": [],
   "source": [
    "if db.exists(search): print(db.get(search))\n",
    "else: (print(key, type(value)) for key, value in rpc.listassets(search, True).items())"
   ]
  },
  {
   "cell_type": "code",
   "execution_count": 2,
   "metadata": {},
   "outputs": [
    {
     "ename": "NameError",
     "evalue": "name 'get_address_utxos' is not defined",
     "output_type": "error",
     "traceback": [
      "\u001b[1;31m---------------------------------------------------------------------------\u001b[0m",
      "\u001b[1;31mNameError\u001b[0m                                 Traceback (most recent call last)",
      "Cell \u001b[1;32mIn[2], line 11\u001b[0m\n\u001b[0;32m      9\u001b[0m wallet\u001b[39m.\u001b[39mfrom_mnemonic(phrase, lang, pword)\n\u001b[0;32m     10\u001b[0m p2pkh \u001b[39m=\u001b[39m wallet\u001b[39m.\u001b[39mp2pkh_address()\n\u001b[1;32m---> 11\u001b[0m utxos \u001b[39m=\u001b[39m get_address_utxos(rpc, [p2pkh, \u001b[39m'\u001b[39m\u001b[39mRTMuF5inxr45Vz1QWb2eGjMx3B4jedBhXQ\u001b[39m\u001b[39m'\u001b[39m])\n",
      "\u001b[1;31mNameError\u001b[0m: name 'get_address_utxos' is not defined"
     ]
    }
   ],
   "source": [
    "account_index = 0\n",
    "change_index = 0\n",
    "address_index = 0\n",
    "hdwallet = {\n",
    "    '141': lambda a, b, c, d: BIP141HDWallet(a, get_cryptocurrency(a), f\"m/44'/175'/{b}'/{c}/{d}\")\n",
    "}\n",
    "\n",
    "wallet = hdwallet['141'](RVN, account_index, change_index, address_index)\n",
    "wallet.from_mnemonic(phrase, lang, pword)\n",
    "p2pkh = wallet.p2pkh_address()\n",
    "utxos = get_address_utxos(rpc, [p2pkh, 'RTMuF5inxr45Vz1QWb2eGjMx3B4jedBhXQ'])"
   ]
  },
  {
   "cell_type": "code",
   "execution_count": null,
   "metadata": {},
   "outputs": [],
   "source": [
    "rpc.getaddressbalance(p2pkh)"
   ]
  },
  {
   "cell_type": "code",
   "execution_count": null,
   "metadata": {},
   "outputs": [],
   "source": [
    "from src.encode_img import encrypt_img\n",
    "from src.rips.utils import gpg, get_pgp_block, gen_key\n",
    "pword = '12345678'\n",
    "for key in gpg.list_keys():\n",
    "    for uid in key['uids']:\n",
    "        if (p2pkh) in uid:\n",
    "            print(uid.split(' ')[0])\n",
    "            print(get_pgp_block(key['keyid']))\n",
    "            print(encrypt_img('image.png', key['fingerprint'], pword))\n",
    "        else: gen_key(RVN, p2pkh, pword)"
   ]
  },
  {
   "cell_type": "code",
   "execution_count": null,
   "metadata": {},
   "outputs": [],
   "source": [
    "address = utxos[-1]['address']\n",
    "txid = utxos[-1]['txid']\n",
    "vout = utxos[-1]['outputIndex']\n",
    "script = utxos[-1]['script']\n",
    "satoshis = utxos[-1]['satoshis']\n",
    "height = utxos[-1]['height']\n",
    "print(satoshis)\n",
    "int(0.14705882 * 1e8)"
   ]
  },
  {
   "cell_type": "code",
   "execution_count": null,
   "metadata": {},
   "outputs": [],
   "source": [
    "from src.rips.rip_11 import MData11_Recieve\n",
    "from src.rips.utils import gpg, get_pgp_block\n",
    "for key in gpg.list_keys():\n",
    "    kid = key['keyid']\n",
    "    recipient = MData11_Recieve(p2pkh, get_pgp_block(kid))"
   ]
  },
  {
   "cell_type": "code",
   "execution_count": null,
   "metadata": {},
   "outputs": [],
   "source": [
    "\n",
    "from src.ipfs_publish import PublishMData\n",
    "from src.rvn_rpc import sign_message\n",
    "\n",
    "\n",
    "asset_name = f'PGP_{recipient.chksum}'\n",
    "rvn_sig = await sign_message(wallet.wif(), recipient.signed)\n",
    "published_json = PublishMData(\n",
    "    'tag', recipient.metadata, recipient.signed, rvn_sig\n",
    ")\n",
    "print(asset_name, published_json.cid)"
   ]
  },
  {
   "cell_type": "code",
   "execution_count": null,
   "metadata": {},
   "outputs": [],
   "source": [
    "from base64 import b16encode, b16decode\n",
    "from base58 import b58encode\n",
    "from ecdsa import SECP256k1, SigningKey\n",
    "from ecdsa.ecdsa import Public_key, Private_key\n",
    "\n",
    "from hashlib import new, sha256\n",
    "encoding = 'ascii'\n",
    "hex = {\n",
    "    \"bytes\": lambda b: b if isinstance(b, bytes) else bytes(b, encoding).hex(),\n",
    "    \"double_sha256\": lambda b: sha256(sha256(b if isinstance(b, bytes) else bytes(b, encoding)).hexdigest().encode(encoding)).hexdigest(),\n",
    "    \"ripemd160\": lambda b: new('ripemd160', b if isinstance(b, bytes) else bytes(b, encoding)).hexdigest()\n",
    "}\n",
    "print((double_sha256 := hex['double_sha256'])('Blue Raspberry'))\n",
    "# (to_bytes := hex['bytes'])('5')\n",
    "#\n",
    "# (ripemd160 := hex['ripemd160'])('v')"
   ]
  },
  {
   "cell_type": "code",
   "execution_count": null,
   "metadata": {},
   "outputs": [],
   "source": [
    "def transaction_input(*args): return [{'txid': t, 'vout': v} for t, v in args]"
   ]
  },
  {
   "cell_type": "code",
   "execution_count": null,
   "metadata": {},
   "outputs": [],
   "source": [
    "from src.rips.rip_14 import MData14\n",
    "from src.encode_img import img_file\n",
    "from src.rvn_rpc import sign_message\n",
    "icon = img_file('image.png')\n",
    "name = 'Test'\n",
    "description = 'This is a test.'\n",
    "asset_type = 'POINTS'\n",
    "restrictions = ['Rule 34']\n",
    "keywords = ['Test', 'Points', 'In-Game Currency']\n",
    "issuer = 'Robby'\n",
    "website = 'Testing'\n",
    "website_url = 'hhtps://www.test.io'\n",
    "contact_name = 'Bob Robinson'\n",
    "contact_email = 'bob@gmail.com'\n",
    "business_name = 'The Business'\n",
    "street = '1234 Sesame Street'\n",
    "city = 'City'\n",
    "state = 'NA'\n",
    "zipcode = '12345'\n",
    "country = 'USA'\n",
    "_address = f'{street}, {city}, {state} {zipcode} {country}'\n",
    "address = f'{business_name} {_address}' if business_name else _address\n",
    "sell_price = 0\n",
    "curreny = 'RVN'\n",
    "other = {}\n",
    "attachments = []\n",
    "recipients = {}\n",
    "algorithm = 'ECDSA'\n",
    "ipfs =[]\n",
    "url = []\n",
    "mdata14 = MData14(\n",
    "    icon, name, description, asset_type, restrictions, keywords, \n",
    "    issuer, website, website_url, contact_name, contact_email, address, \n",
    "    sell_price, curreny, other, attachments, recipients, algorithm, ipfs, url\n",
    ")\n",
    "mdata14.metadata"
   ]
  },
  {
   "cell_type": "code",
   "execution_count": null,
   "metadata": {},
   "outputs": [],
   "source": [
    "mdata = mdata14.metadata\n",
    "smdata = mdata14.signed_metadata\n",
    "signature = await sign_message(wallet.wif(), smdata)"
   ]
  },
  {
   "cell_type": "code",
   "execution_count": null,
   "metadata": {},
   "outputs": [],
   "source": [
    "bytes(signature, 'ascii').hex()"
   ]
  },
  {
   "cell_type": "code",
   "execution_count": null,
   "metadata": {},
   "outputs": [],
   "source": [
    "from os import listdir\n",
    "b64images = [img_file(i) for i in listdir('images')]\n",
    "# for image in b64images:\n",
    "#     print(str(bytes.fromhex(image), 'ascii'))"
   ]
  },
  {
   "cell_type": "code",
   "execution_count": null,
   "metadata": {},
   "outputs": [],
   "source": [
    "wallet.p2pkh_address()"
   ]
  },
  {
   "cell_type": "code",
   "execution_count": null,
   "metadata": {},
   "outputs": [],
   "source": [
    "from src.rvn_rpc import is_valid, get_address_utxos"
   ]
  },
  {
   "cell_type": "code",
   "execution_count": null,
   "metadata": {},
   "outputs": [],
   "source": [
    "def issue_asset(*args, **kwargs):\n",
    "    change_address, change, issuer_address, name, quantity, units, reissuable, has_ipfs, hash = args\n",
    "    kwargs.update(burn_rvn['main'])\n",
    "    kwargs.update(\n",
    "        {\n",
    "            change_address: change, \n",
    "            issuer_address: {\n",
    "                'issue': {\n",
    "                    'asset_name': name,\n",
    "                    'asset_quantity': quantity,\n",
    "                    'units': units,\n",
    "                    'reissuable': reissuable,\n",
    "                    'has_ipfs': has_ipfs,\n",
    "                    'ipfs_hash': hash\n",
    "                }\n",
    "            }\n",
    "        }\n",
    "    )\n",
    "    return kwargs\n",
    "change_address = ''\n",
    "amount_of_change = 0\n",
    "quantity = 90\n",
    "units = 1\n",
    "reissuable = 1\n",
    "has_ipfs = 0\n",
    "ipfs_hash = ''\n",
    "issue_asset(\n",
    "    change_address, amount_of_change, 'asset_address', 'ASSET_NAME', \n",
    "    quantity, units, reissuable, has_ipfs, ipfs_hash\n",
    ")"
   ]
  },
  {
   "cell_type": "code",
   "execution_count": null,
   "metadata": {},
   "outputs": [],
   "source": [
    "def send_to_address(*args):\n",
    "    to_address, amount, change_address, change = args\n",
    "    return {to_address: amount, change_address: change}"
   ]
  },
  {
   "cell_type": "code",
   "execution_count": null,
   "metadata": {},
   "outputs": [],
   "source": [
    "# check_address = await is_valid('RTMuF5inxr45Vz1QWb2eGjMx3B4jedBhXQ')\n",
    "# if check_address['isvalid']:\n",
    "#     print(check_address)\n",
    "# else: print(check_address['isvalid'])"
   ]
  },
  {
   "cell_type": "code",
   "execution_count": null,
   "metadata": {},
   "outputs": [],
   "source": [
    "# address_data = get_address_balance(*addresses, show_assets=True)"
   ]
  },
  {
   "cell_type": "code",
   "execution_count": null,
   "metadata": {},
   "outputs": [],
   "source": [
    "# address_balances = {\n",
    "#     asset['assetName']: \n",
    "#     {\n",
    "#         (b := 'balance'): round(asset[b] // 1e8, 8), \n",
    "#         (r := 'received'): round(asset[r] // 1e8, 8)\n",
    "#     } for asset in address_data\n",
    "# }\n",
    "# print(address_balances)\n",
    "# for asset in address_data:\n",
    "#     if asset['assetName'] == 'RVN':\n",
    "#         balance = round(asset['balance'] * SATOSHI, 8)\n",
    "#         received = round(asset['received'] * SATOSHI, 8)\n",
    "#         print(f'{balance}\\n{received}')"
   ]
  }
 ],
 "metadata": {
  "kernelspec": {
   "display_name": "Python 3",
   "language": "python",
   "name": "python3"
  },
  "language_info": {
   "codemirror_mode": {
    "name": "ipython",
    "version": 3
   },
   "file_extension": ".py",
   "mimetype": "text/x-python",
   "name": "python",
   "nbconvert_exporter": "python",
   "pygments_lexer": "ipython3",
   "version": "3.10.10"
  },
  "orig_nbformat": 4
 },
 "nbformat": 4,
 "nbformat_minor": 2
}
