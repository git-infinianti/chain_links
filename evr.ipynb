{
 "cells": [
  {
   "cell_type": "code",
   "execution_count": 7,
   "metadata": {},
   "outputs": [],
   "source": [
    "from json import load\n",
    "from hdwallet import BIP44HDWallet\n",
    "from hdwallet.symbols import EVR\n",
    "from hdwallet.cryptocurrencies import get_cryptocurrency\n",
    "\n",
    "with open('.data/sighash.json', 'r') as file:\n",
    "    SIGHASH_TYPES = load(file)\n",
    "with open('.data/settings.json', 'r') as file:\n",
    "    SETTINGS = load(file)\n",
    "    LANGUAGE = SETTINGS['language']\n",
    "    PASSWORD = SETTINGS['password']\n",
    "with open('.data/mnemonic.json', 'r') as file:\n",
    "    PHRASE = load(file)[-1]"
   ]
  },
  {
   "cell_type": "code",
   "execution_count": 8,
   "metadata": {},
   "outputs": [
    {
     "data": {
      "text/plain": [
       "{'p2pkh': 'EV92pXDcy61mFrRZeafiYk5JKKbRVaccdr',\n",
       " 'p2sh': 'e4Em66ub8fasVs5EBxb72TJmZrUdASAuMg',\n",
       " 'p2wpkh': 'ev1tsdmnt9gu2v5pxyfjn2t9mrmuvwywyhjy4fts6r',\n",
       " 'p2wpkh_in_p2sh': 'eHSKHRmEf7Yvr6oDnRRcFMsKKHbNhWcjBW',\n",
       " 'p2wsh': 'ev1t3dxynje22h57dny9jy6hgpsnkgfsct42xw2esxageq3ph4wn5gqswvj0md',\n",
       " 'p2wsh_in_p2sh': 'e7i6YgyM2zRbjnWPMpwuWS1GCmSAqyoVfk'}"
      ]
     },
     "execution_count": 8,
     "metadata": {},
     "output_type": "execute_result"
    }
   ],
   "source": [
    "wallet = BIP44HDWallet(EVR, get_cryptocurrency(EVR))\n",
    "wallet.from_mnemonic(PHRASE, LANGUAGE, PASSWORD)\n",
    "wallet.dumps()['addresses']"
   ]
  }
 ],
 "metadata": {
  "kernelspec": {
   "display_name": "Python 3",
   "language": "python",
   "name": "python3"
  },
  "language_info": {
   "codemirror_mode": {
    "name": "ipython",
    "version": 3
   },
   "file_extension": ".py",
   "mimetype": "text/x-python",
   "name": "python",
   "nbconvert_exporter": "python",
   "pygments_lexer": "ipython3",
   "version": "3.10.10"
  },
  "orig_nbformat": 4
 },
 "nbformat": 4,
 "nbformat_minor": 2
}
