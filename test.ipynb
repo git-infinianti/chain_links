{
 "cells": [
  {
   "cell_type": "code",
   "execution_count": 162,
   "metadata": {},
   "outputs": [],
   "source": [
    "from string import digits, ascii_letters\n",
    "from secrets import SystemRandom\n",
    "punctuation = '!#$%&?@'\n",
    "population = punctuation + digits + ascii_letters\n",
    "def generate_passwords(n: int, k: int):\n",
    "    for _ in range(n):\n",
    "        yield ''.join(SystemRandom().choices(population, k=k))"
   ]
  },
  {
   "cell_type": "code",
   "execution_count": 166,
   "metadata": {},
   "outputs": [],
   "source": [
    "passwords = generate_passwords(16, 16)"
   ]
  },
  {
   "cell_type": "code",
   "execution_count": 26,
   "metadata": {},
   "outputs": [
    {
     "data": {
      "text/plain": [
       "[[[0, 1], [0, 2]], [[1, 2], [1, 3]]]"
      ]
     },
     "execution_count": 26,
     "metadata": {},
     "output_type": "execute_result"
    }
   ],
   "source": [
    "nmult = {\n",
    "    'n': lambda a, b, c: [[[x + z * y + z for z in range(c)] for y in range(b)] for x in range(a)]\n",
    "    }\n",
    "g = 2\n",
    "mxi, myi, mzi = g, g, g\n",
    "for z in nmult['n'](mxi, myi, mzi):\n",
    "    for y in z:\n",
    "        for x in y:\n",
    "            # print(x)\n",
    "            # print(y)\n",
    "            # print(z)\n",
    "            pass\n",
    "nmult['n'](mxi, myi, mzi)"
   ]
  },
  {
   "cell_type": "code",
   "execution_count": null,
   "metadata": {},
   "outputs": [],
   "source": [
    "x = 0 + 0j\n",
    "y = 0 + 0j\n",
    "z = 0 + 0j\n",
    "matrix = {\n",
    "    \n",
    "}"
   ]
  },
  {
   "cell_type": "code",
   "execution_count": null,
   "metadata": {},
   "outputs": [],
   "source": [
    "from ursina import *\n",
    "app = Ursina()\n",
    "testnet, regtest, listen, server, minimized, totray = 0, 0, 0, 0, 0, 0\n",
    "txindex, addressindex, assetindex, timestampindex, spentindex = 0, 0, 0, 0, 0\n",
    "\n",
    "_buttons = {\n",
    "    'Testnet': lambda: 0 if testnet == 1 else 1,\n",
    "    'Regtest': lambda: 0 if regtest == 1 else 1,\n",
    "    'Listen': lambda: 0 if listen == 1 else 1,\n",
    "    'Server': lambda: 0 if server == 1 else 1,\n",
    "    'Start Minimized': lambda: 0 if minimized == 1 else 1,\n",
    "    'Minimize to Tray': lambda: 0 if totray == 1 else 1,\n",
    "    'Transaction Index': lambda: 0 if txindex == 1 else 1,\n",
    "    'Address Index': lambda: 0 if addressindex == 1 else 1,\n",
    "    'Asset Index': lambda: 0 if assetindex == 1 else 1,\n",
    "    'Timestamp Index': lambda: 0 if timestampindex == 1 else 1,\n",
    "    'Spent Index': lambda: 0 if spentindex == 1 else 1\n",
    "}\n",
    "\n",
    "buttons = ButtonList(_buttons)\n",
    "buttons.position = Vec2(.3, .2)"
   ]
  },
  {
   "cell_type": "code",
   "execution_count": null,
   "metadata": {},
   "outputs": [],
   "source": [
    "rpc_user = InputField('RPC User', 'rpcuser')\n",
    "rpc_user.text_field.position = Vec2(-.45, .3)\n",
    "rpc_user.position = Vec2(0, .12)\n",
    "rpc_password = InputField('RPC Password', 'rpcpassword')\n",
    "rpc_password.text_field.position = Vec2(-.45, .3)\n",
    "rpc_password.position = Vec2(0, .06)\n",
    "\n",
    "button = Button('Submit')\n",
    "button.fit_to_text()\n",
    "button.on_click()\n"
   ]
  },
  {
   "cell_type": "code",
   "execution_count": null,
   "metadata": {},
   "outputs": [],
   "source": [
    "def input(key):\n",
    "    buttons.input(key)\n"
   ]
  },
  {
   "cell_type": "code",
   "execution_count": null,
   "metadata": {},
   "outputs": [],
   "source": [
    "print(buttons.button_dict)"
   ]
  },
  {
   "cell_type": "code",
   "execution_count": null,
   "metadata": {},
   "outputs": [],
   "source": [
    "def update():\n",
    "    pass"
   ]
  },
  {
   "cell_type": "code",
   "execution_count": null,
   "metadata": {},
   "outputs": [],
   "source": [
    "while True:\n",
    "    app.step()"
   ]
  }
 ],
 "metadata": {
  "kernelspec": {
   "display_name": "Python 3",
   "language": "python",
   "name": "python3"
  },
  "language_info": {
   "codemirror_mode": {
    "name": "ipython",
    "version": 3
   },
   "file_extension": ".py",
   "mimetype": "text/x-python",
   "name": "python",
   "nbconvert_exporter": "python",
   "pygments_lexer": "ipython3",
   "version": "3.10.10"
  },
  "orig_nbformat": 4
 },
 "nbformat": 4,
 "nbformat_minor": 2
}
