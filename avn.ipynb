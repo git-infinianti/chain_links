{
 "cells": [
  {
   "cell_type": "code",
   "execution_count": null,
   "metadata": {},
   "outputs": [],
   "source": [
    "from json import load\n",
    "from hdwallet import BIP44HDWallet\n",
    "from hdwallet.symbols import AVN\n",
    "from hdwallet.cryptocurrencies import get_cryptocurrency\n",
    "\n",
    "LANGUAGE = 'english'\n",
    "PASSWORD = ''\n",
    "\n",
    "with open('.data/mnemonic.json', 'r') as file:\n",
    "    PHRASE = load(file)[-1]\n"
   ]
  },
  {
   "cell_type": "code",
   "execution_count": null,
   "metadata": {},
   "outputs": [],
   "source": [
    "wallet = BIP44HDWallet(AVN, get_cryptocurrency(AVN))\n",
    "wallet.from_mnemonic(PHRASE, LANGUAGE, PASSWORD)\n",
    "wallet.dumps()['addresses']"
   ]
  }
 ],
 "metadata": {
  "kernelspec": {
   "display_name": "Python 3",
   "language": "python",
   "name": "python3"
  },
  "language_info": {
   "codemirror_mode": {
    "name": "ipython",
    "version": 3
   },
   "file_extension": ".py",
   "mimetype": "text/x-python",
   "name": "python",
   "nbconvert_exporter": "python",
   "pygments_lexer": "ipython3",
   "version": "3.10.10"
  },
  "orig_nbformat": 4
 },
 "nbformat": 4,
 "nbformat_minor": 2
}
