{
 "cells": [
  {
   "cell_type": "code",
   "execution_count": 5,
   "metadata": {},
   "outputs": [],
   "source": [
    "from json import load\n",
    "from hdwallet import BIP44HDWallet\n",
    "from hdwallet.symbols import AVN\n",
    "from hdwallet.cryptocurrencies import get_cryptocurrency\n",
    "\n",
    "LANGUAGE = 'english'\n",
    "PASSWORD = ''\n",
    "\n",
    "with open('.data/mnemonic.json', 'r') as file:\n",
    "    PHRASE = load(file)[-1]\n"
   ]
  },
  {
   "cell_type": "code",
   "execution_count": 6,
   "metadata": {},
   "outputs": [
    {
     "data": {
      "text/plain": [
       "{'p2pkh': 'RS9cP8YRi4HsXWwuaE6Vs9w6MnUkSNfGnd',\n",
       " 'p2sh': 'rMz5enBtjaDU2LuK3AMwyYQjTAmmHD9TAW',\n",
       " 'p2wpkh': 'av1dhy93jtxfkslvtqccsa7aj8ccntamqupc5xz5v0',\n",
       " 'p2wpkh_in_p2sh': 'rB6v3Cmhv6uK2Tj4e8UiZHhb1SaxVLBi55',\n",
       " 'p2wsh': 'av1dmgrdgg8vfx2f78ss4ckxrjslrn0khxvrmrvgjnj8f4lyv7syttsqxcucme',\n",
       " 'p2wsh_in_p2sh': 'rTNtBDjcT8N8mBtwpc3N1TDwpM7AUdheuh'}"
      ]
     },
     "execution_count": 6,
     "metadata": {},
     "output_type": "execute_result"
    }
   ],
   "source": [
    "wallet = BIP44HDWallet(AVN, get_cryptocurrency(AVN))\n",
    "wallet.from_mnemonic(PHRASE, LANGUAGE, PASSWORD)\n",
    "wallet.dumps()['addresses']"
   ]
  }
 ],
 "metadata": {
  "kernelspec": {
   "display_name": "Python 3",
   "language": "python",
   "name": "python3"
  },
  "language_info": {
   "codemirror_mode": {
    "name": "ipython",
    "version": 3
   },
   "file_extension": ".py",
   "mimetype": "text/x-python",
   "name": "python",
   "nbconvert_exporter": "python",
   "pygments_lexer": "ipython3",
   "version": "3.10.10"
  },
  "orig_nbformat": 4
 },
 "nbformat": 4,
 "nbformat_minor": 2
}
