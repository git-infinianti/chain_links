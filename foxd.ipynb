{
 "cells": [
  {
   "cell_type": "code",
   "execution_count": null,
   "metadata": {},
   "outputs": [],
   "source": [
    "from os import getenv\n",
    "from sys import getsizeof\n",
    "from random import uniform\n",
    "from pathlib import Path\n",
    "from concurrent.futures import ThreadPoolExecutor, as_completed\n",
    "\n",
    "from hdwallet import HDWallet, BIP141HDWallet\n",
    "from hdwallet.symbols import FOXD\n",
    "from hdwallet.cryptocurrencies import get_cryptocurrency\n",
    "\n",
    "from dotenv import load_dotenv\n",
    "from mnemonic import Mnemonic\n",
    "import pickledb\n",
    "import wx\n",
    "\n",
    "from src.RPC import Call\n",
    "from src.WalletDB import Wallet\n",
    "from src.Database import credentials, mnemonic, settings, sighash\n",
    "from src.node_conf.Helper import Helper\n",
    "\n",
    "load_dotenv()"
   ]
  },
  {
   "cell_type": "code",
   "execution_count": null,
   "metadata": {},
   "outputs": [],
   "source": [
    "print(True) if 0 else print(False)"
   ]
  },
  {
   "cell_type": "code",
   "execution_count": null,
   "metadata": {},
   "outputs": [],
   "source": [
    "class Application(wx.App):\n",
    "    def OnInit(self):\n",
    "        app = Helper(None).Show(True)\n",
    "        return True\n",
    "app = Application()\n",
    "app.MainLoop()"
   ]
  },
  {
   "cell_type": "code",
   "execution_count": null,
   "metadata": {},
   "outputs": [],
   "source": [
    "hdkeypath = \"m/0'/0'/0'\"\n",
    "foxdWallet = BIP141HDWallet(FOXD, get_cryptocurrency(FOXD), hdkeypath)\n",
    "foxdWallet.from_xprivate_key(getenv('XPRIV')) # type: ignore\n",
    "foxdWallet.p2pkh_address()"
   ]
  },
  {
   "cell_type": "code",
   "execution_count": null,
   "metadata": {},
   "outputs": [],
   "source": [
    "language = settings['language']\n",
    "password = settings['password']\n",
    "sighash['anyone']['all']"
   ]
  },
  {
   "cell_type": "code",
   "execution_count": null,
   "metadata": {},
   "outputs": [],
   "source": [
    "# if walletdb.lenaddr < amount:\n",
    "#     amount = amount\n",
    "# walletdb.generate_addresses(amount)\n",
    "\n",
    "def switch_account_wallet(): pass\n",
    "\n",
    "# from concurrent.futures import ThreadPoolExecutor, as_completed\n",
    "# with ThreadPoolExecutor(16) as executor:\n",
    "#     for i in range(10): # walletdb.lenaddr//50\n",
    "#         futures = [executor.submit(rpc.getaddressbalance, walletdb.generate_addresses(i))]\n",
    "#         for future in as_completed(futures):\n",
    "#             print(future.result())"
   ]
  },
  {
   "cell_type": "code",
   "execution_count": null,
   "metadata": {},
   "outputs": [],
   "source": [
    "rpc = Call(getenv('RPCUSER'), getenv('RPCPASS'), 8770)\n",
    "\n",
    "def vouts(**kwrgs): return kwrgs\n",
    "def vins(txids: list, vouts: list): return [{'txid': t, 'vout': v} for t, v in zip(txids, vouts)]\n",
    "def createtx(vins: list[dict], vouts: dict): return rpc.createrawtransaction(vins, vouts)\n",
    "def calcfee(txhash: str, feerate=.01): return feerate * getsizeof(txhash) / 1000\n",
    "\n",
    "wallet = walletdb.get_account(0, 0)\n",
    "address = wallet.p2pkh_address()\n",
    "priv_key = wallet.wif()\n",
    "wallet = walletdb.get_account(0, 1)\n",
    "chaddr = wallet.p2pkh_address()\n",
    "\n",
    "def send_to(p2pkh: str | list[str]): return\n",
    "\n",
    "\n",
    "def send_coin(p2pkh, wif):\n",
    "    utxo = rpc.getaddressutxos(p2pkh)[0]\n",
    "    txid = utxo['txid']\n",
    "    vout = utxo['outputIndex']\n",
    "    script = utxo['script']\n",
    "    balance = round(utxo['satoshis'] / 1e8, 8)\n",
    "\n",
    "    def calcfee():\n",
    "        txhash = createtx([{'txid': txid, 'vout': vout}], {})\n",
    "        sigtx = rpc.signrawtransaction(txhash, [{'txid': txid, 'vout': vout, 'scriptPubKey': script}], [wif], \"ALL|ANYONECANPAY\")\n",
    "        bytesize = getsizeof(sigtx['hex'])\n",
    "        return round(.01 * bytesize / 1000, 8) # .01 * rpc.decoderawtransaction(sigtx['hex'])['size'] / 1000\n",
    "\n",
    "    # txhash = rpc.createrawtransaction([{'txid': txid, 'vout': vout}], {'FEXoWJvWszsofzwEv4rvKAj54u94jxk9KW': (balance//2)-txfee, chaddr:(balance//2)-txfee})\n",
    "    # sigtx = rpc.signrawtransaction(txhash, [{'txid': txid, 'vout': vout, 'scriptPubKey': script}], [wif], \"ALL|ANYONECANPAY\")\n",
    "    # if bool(sigtx['complete']): return rpc.sendrawtransaction(str(sigtx['hex']))\n",
    "# print(rpc.decoderawtransaction(send_coin(address, priv_key)))\n",
    "# print(send_coin(address, priv_key)) # 4bef8d65e7c223a3f015789cfb3bc250995893c9c9fd198e80e6891d006811e8 # FEXoWJvWszsofzwEv4rvKAj54u94jxk9KW"
   ]
  },
  {
   "cell_type": "code",
   "execution_count": null,
   "metadata": {},
   "outputs": [],
   "source": [
    "rpc = Call(getenv('RPCUSER'), getenv('RPCPASS'), 8770)\n",
    "# rpc.getaddressbalance(address)\n",
    "rpc.decoderawtransaction()\n",
    "rpc.gettransaction('4bef8d65e7c223a3f015789cfb3bc250995893c9c9fd198e80e6891d006811e8')\n",
    "\n"
   ]
  },
  {
   "cell_type": "code",
   "execution_count": null,
   "metadata": {},
   "outputs": [],
   "source": [
    "rpc = Call(getenv('RPCUSER'), getenv('RPCPASS'), 8770)\n",
    "wallet, account, amount = f'wallet.{0}', f'account.{3}', 1000\n",
    "phrase = p if isinstance(p := getenv('MNEM'), str) else mnemonic[wallet][-1]\n",
    "walletdb = Wallet('FOXD', wallet, account, phrase)\n",
    "offset = 4000 # walletdb.lenaddrs\n",
    "db = walletdb.jsonDB\n",
    "gen_addrs = walletdb.generate_addresses\n",
    "def get_addresses(amount, offset):\n",
    "    with ThreadPoolExecutor(16) as executor:\n",
    "        def addresses(): return executor.submit(gen_addrs, amount).result()\n",
    "        if walletdb.lenaddrs >= amount + offset: \n",
    "            ret = [executor.submit(db.lget, account, i + offset) for i in range(amount)] \n",
    "            for futr in as_completed(ret): yield futr.result()\n",
    "        else: return addresses()\n",
    "addresses = list(get_addresses(amount, offset))\n",
    "\n",
    "print(addresses[0], addresses[-1])"
   ]
  },
  {
   "cell_type": "code",
   "execution_count": null,
   "metadata": {},
   "outputs": [],
   "source": [
    "walletdb = Wallet('FOXD', wallet, account, phrase)\n",
    "walletdb.lenaddrs\n",
    "# addresses"
   ]
  },
  {
   "cell_type": "code",
   "execution_count": null,
   "metadata": {},
   "outputs": [],
   "source": [
    "with ThreadPoolExecutor(16) as executor:\n",
    "    bals = [executor.submit(rpc.getaddressbalance, {'addresses': [address]}) for address in (addresses[0], addresses[-1])]\n",
    "    for futr in as_completed(bals): print(futr.result())"
   ]
  },
  {
   "cell_type": "code",
   "execution_count": null,
   "metadata": {},
   "outputs": [],
   "source": [
    "bal = rpc.getbalance('')\n",
    "recipients = {address: round(bal/uniform(100000, 200000), 8) for address in addresses}\n",
    "print(f'{bal}\\n{recipients}')"
   ]
  },
  {
   "cell_type": "code",
   "execution_count": null,
   "metadata": {},
   "outputs": [],
   "source": [
    "rpc.walletpassphrase(getenv('UNLOCK'), 60)"
   ]
  },
  {
   "cell_type": "code",
   "execution_count": null,
   "metadata": {},
   "outputs": [],
   "source": [
    "tdb = pickledb.load('tx.json', True)\n",
    "if not tdb.exists(wallet): tdb.lcreate(wallet)\n",
    "\n",
    "tx = rpc.sendmany('', recipients, 1, '', addresses)\n",
    "if not tx: print('There was no transaction.')\n",
    "else: tdb.append(wallet, [tx])\n",
    "if tx: print(f'{tx}\\n{recipients}')"
   ]
  },
  {
   "cell_type": "code",
   "execution_count": null,
   "metadata": {},
   "outputs": [],
   "source": [
    "rpc.walletlock()"
   ]
  },
  {
   "cell_type": "code",
   "execution_count": null,
   "metadata": {},
   "outputs": [],
   "source": [
    "# rpc = Call(getenv('RPCUSER'), getenv('RPCPASS'), 8770)\n",
    "\n",
    "# txs = tdb.lgetall('wallet.0')\n",
    "# rpc.gettransaction(txs[-1])['details']\n",
    "\n",
    "print(rpc.gettransaction(''))"
   ]
  },
  {
   "cell_type": "code",
   "execution_count": null,
   "metadata": {},
   "outputs": [],
   "source": [
    "\n",
    "# def load_db(filename): return pickledb.load(f'{filename}.json', True)\n",
    "# db = load_db('addresses')\n",
    "\n",
    "\n",
    "with ThreadPoolExecutor() as executor: pass\n",
    "# def lexists_seq(name, data):\n",
    "#     if type(data) is list | tuple:\n",
    "#         for d in data: \n",
    "#             pass\n",
    "#     \n",
    "# def lexists_ladd(self, name, data): \n",
    "#     if not db.lexists(name, data): db.ladd(name, data)\n",
    "# def save_addresses(account): rpc.getaddressesbyaccount(account)\n",
    "# \n",
    "# \n",
    "# def add_list(self, name, data):\n",
    "#     if not db.exists(name): db.lcreate(name)\n",
    "# db.append('joshie', ['2'])\n",
    "cache = []\n",
    "\n",
    "# for address in db.lgetall('joshie'):\n",
    "#     print(address)\n",
    "# list_accounts(rpc)"
   ]
  },
  {
   "cell_type": "code",
   "execution_count": null,
   "metadata": {},
   "outputs": [],
   "source": [
    "rpc = Call(getenv('RPCUSER'), getenv('RPCPASS'), 8770)\n",
    "\n",
    "file = Path.absolute(Path('foxd_assets.json'))\n",
    "db = pickledb.load(file, True)\n",
    "search = 'ENO'\n",
    "\n",
    "def is_valid_asset(asset):\n",
    "    if db.exists(asset):\n",
    "        print(db.get(search))\n",
    "        return True\n",
    "    for key, value in rpc.listassets(search, True):\n",
    "        db.set(key, value)\n",
    "        if key is search: return True\n",
    "    return False\n",
    "is_valid_asset(search)"
   ]
  },
  {
   "cell_type": "code",
   "execution_count": null,
   "metadata": {},
   "outputs": [],
   "source": [
    "from hashlib import new\n",
    "def ripemd160(data): return new('ripemd160', data)\n",
    "ripemd160(b'hello').hexdigest()"
   ]
  }
 ],
 "metadata": {
  "kernelspec": {
   "display_name": "Python 3",
   "language": "python",
   "name": "python3"
  },
  "language_info": {
   "codemirror_mode": {
    "name": "ipython",
    "version": 3
   },
   "file_extension": ".py",
   "mimetype": "text/x-python",
   "name": "python",
   "nbconvert_exporter": "python",
   "pygments_lexer": "ipython3",
   "version": "3.10.10"
  },
  "orig_nbformat": 4
 },
 "nbformat": 4,
 "nbformat_minor": 2
}
