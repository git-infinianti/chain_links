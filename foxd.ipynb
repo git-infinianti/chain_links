{
 "cells": [
  {
   "cell_type": "code",
   "execution_count": 8,
   "metadata": {},
   "outputs": [],
   "source": [
    "from sys import getsizeof\n",
    "from random import randint\n",
    "from pathlib import Path\n",
    "from concurrent.futures import ThreadPoolExecutor\n",
    "\n",
    "from hdwallet import HDWallet, BIP141HDWallet\n",
    "from hdwallet.symbols import FOXD\n",
    "from hdwallet.cryptocurrencies import get_cryptocurrency\n",
    "\n",
    "import pickledb\n",
    "from mnemonic import Mnemonic\n",
    "\n",
    "from src.RPC import Call\n",
    "from src.database import credentials, mnemonic, settings, sighash"
   ]
  },
  {
   "cell_type": "code",
   "execution_count": 11,
   "metadata": {},
   "outputs": [],
   "source": [
    "account = 'wallet.0'\n",
    "sigtypes = sighash\n",
    "language = settings['language']\n",
    "password = settings['password']\n",
    "phrase = mnemonic[account][-1] # type: ignore"
   ]
  },
  {
   "cell_type": "code",
   "execution_count": null,
   "metadata": {},
   "outputs": [],
   "source": [
    "class WalletDB:\n",
    "    def __init__(self, symbol: str, account: str) -> None:\n",
    "        self.chindex = 0\n",
    "        self.symbol = symbol\n",
    "        self.account = account\n",
    "        self.accindex = account.split('.')[1]\n",
    "        self.db = pickledb.load(f'{symbol.lower()}.wallet.json', True)\n",
    "        self.lenaddrs = self.db.llen(account)\n",
    "        self.listaddrs = list(self.db.lgetall(account))\n",
    "        self.lenkeys = self.db.totalkeys()\n",
    "        self.keys = list(self.db.getall())\n",
    "        \n",
    "    def generate_mnemonics(self, amount, offset=0):\n",
    "        mndb = pickledb.load('src/database/mnemonic.json', True)\n",
    "        for i in range(amount):\n",
    "            name = f'wallet.{i + offset}'\n",
    "            if not mndb.exists(name): mndb.lcreate(name)\n",
    "            new_mnem = Mnemonic(language).generate()\n",
    "            mndb.append(name, [new_mnem])\n",
    "\n",
    "    def get_wallet(self, accindex, addrindex=0) -> HDWallet:\n",
    "        wallet = BIP141HDWallet(self.symbol, get_cryptocurrency(self.symbol), f\"m/44'/175'/{accindex}'/{self.chindex}/{addrindex}\")\n",
    "        return wallet.from_mnemonic(phrase, language, password)\n",
    "\n",
    "    def get_wallets(self, accindex, amount, offset=0) -> list[HDWallet]: return [\n",
    "        self.get_wallet(accindex, i + offset) for i in range(amount)]\n",
    "\n",
    "    def generate_addresses(self, amount=1):\n",
    "        wallets = self.get_wallets(int(self.account.split('.')[1]), amount, self.lenaddrs)\n",
    "        addresses = [wallet.p2pkh_address() for wallet in wallets]\n",
    "        if not self.db.exists(self.account): self.db.lcreate(self.account)\n",
    "        if self.db.append(self.account, addresses): return addresses"
   ]
  },
  {
   "cell_type": "code",
   "execution_count": null,
   "metadata": {},
   "outputs": [],
   "source": [
    "account, amount = f'account.{0}', 10000\n",
    "walletdb = WalletDB(FOXD, account)"
   ]
  },
  {
   "cell_type": "code",
   "execution_count": null,
   "metadata": {},
   "outputs": [],
   "source": [
    "# if walletdb.lenaddr < amount:\n",
    "#     amount = amount\n",
    "# walletdb.generate_addresses(amount)\n",
    "\n",
    "def switch_account_wallet(): pass\n",
    "\n",
    "walletdb.keys\n",
    "\n",
    "walletdb.lenkeys\n",
    "getaddress = lambda addr: walletdb.db.lget(account, addr)\n",
    "# addresses = [getaddress(i+1) for i in range(31)]\n",
    "# from concurrent.futures import ThreadPoolExecutor, as_completed\n",
    "# with ThreadPoolExecutor(16) as executor:\n",
    "#     for i in range(10): # walletdb.lenaddr//50\n",
    "#         futures = [executor.submit(rpc.getaddressbalance, getaddress(i))]\n",
    "# \n",
    "#         for future in as_completed(futures):\n",
    "#             print(future.result())"
   ]
  },
  {
   "cell_type": "code",
   "execution_count": null,
   "metadata": {},
   "outputs": [],
   "source": [
    "rpc = Call(credentials['username'], credentials['password'], 8770)\n",
    "\n",
    "def vins(txids, vouts): return [{'txid': t, 'vout': v} for t, v in zip(txids, vouts)]\n",
    "def vouts(): return {}\n",
    "def createtx(vins: list[dict], vouts: dict): return rpc.createrawtransaction(vins, vouts)\n",
    "def calcfee(txhash: str, feerate=.01): return feerate * getsizeof(txhash) / 1000"
   ]
  },
  {
   "cell_type": "code",
   "execution_count": null,
   "metadata": {},
   "outputs": [],
   "source": [
    "# rpc = RPC(credentials['username'], credentials['password'], 8770)\n",
    "\n",
    "wallet = walletdb.get_wallet(0, 0)\n",
    "address = wallet.p2pkh_address()\n",
    "priv_key = wallet.wif() # rpc.importprivkey(priv_key, '', False)\n",
    "wallet = walletdb.get_wallet(0, 1)\n",
    "chaddr = wallet.p2pkh_address()\n",
    "\n",
    "def send_coin(p2pkh, wif):\n",
    "    utxo = rpc.getaddressutxos(p2pkh)[0]\n",
    "    txid = utxo['txid']\n",
    "    vout = utxo['outputIndex']\n",
    "    script = utxo['script']\n",
    "    balance = round(utxo['satoshis'] / 1e8, 8)\n",
    "\n",
    "    # creates vin and update for signatue\n",
    "    # vin = (lambda t, v: {'txid': t, 'vout': v})(txid, vout)\n",
    "    # vin.update(scriptPubKey=script)\n",
    "    # print(vin)\n",
    "    \n",
    "    def calcfee():\n",
    "        txhash = createtx([{'txid': txid, 'vout': vout}], {})\n",
    "        sigtx = rpc.signrawtransaction(txhash, [{'txid': txid, 'vout': vout, 'scriptPubKey': script}], [wif], \"ALL|ANYONECANPAY\")\n",
    "        bytesize = getsizeof(sigtx['hex'])\n",
    "        round(.01 * bytesize / 2 / 1000, 8)\n",
    "        return .01 * rpc.decoderawtransaction(sigtx['hex'])['size'] / 1000\n",
    "    txfee = calcfee()\n",
    "    txhash = rpc.createrawtransaction([{'txid': txid, 'vout': vout}], {'FEXoWJvWszsofzwEv4rvKAj54u94jxk9KW': (balance//2)-txfee, chaddr:(balance//2)-txfee})\n",
    "    sigtx = rpc.signrawtransaction(txhash, [{'txid': txid, 'vout': vout, 'scriptPubKey': script}], [wif], \"ALL|ANYONECANPAY\")\n",
    "    if bool(sigtx['complete']): return rpc.sendrawtransaction(str(sigtx['hex']))\n",
    "# print(rpc.decoderawtransaction(send_coin(address, priv_key)))\n",
    "# print(send_coin(address, priv_key)) # 4bef8d65e7c223a3f015789cfb3bc250995893c9c9fd198e80e6891d006811e8 # FEXoWJvWszsofzwEv4rvKAj54u94jxk9KW"
   ]
  },
  {
   "cell_type": "code",
   "execution_count": null,
   "metadata": {},
   "outputs": [],
   "source": [
    "# rpc = Call(credentials['username'], credentials['password'], 8770)\n",
    "\n",
    "# rpc.getaddressbalance(address)\n",
    "# rpc.decoderawtransaction()\n",
    "print(rpc.gettransaction('4bef8d65e7c223a3f015789cfb3bc250995893c9c9fd198e80e6891d006811e8'))\n",
    "_vin = lambda t, v: {'txid': t, 'vout': v}\n",
    "_vin = _vin(345467, 0)\n",
    "_vin.update(scriptPubKey=54353)\n",
    "print(_vin)\n"
   ]
  },
  {
   "cell_type": "code",
   "execution_count": null,
   "metadata": {},
   "outputs": [],
   "source": [
    "# rpc = Call(credentials['username'], credentials['password'], 8770)\n",
    "\n"
   ]
  },
  {
   "cell_type": "code",
   "execution_count": null,
   "metadata": {},
   "outputs": [],
   "source": [
    "# rpc = Call(credentials['username'], credentials['password'], 8770)\n",
    "\n",
    "# addresses = list(db.lgetall(account))\n",
    "offset = 9000\n",
    "addresses = [getaddress(i+offset) for i in range(1000)]\n",
    "bal = rpc.getbalance('')\n",
    "print(f'{bal}\\n{addresses}')"
   ]
  },
  {
   "cell_type": "code",
   "execution_count": null,
   "metadata": {},
   "outputs": [],
   "source": [
    "# rpc = Call(credentials['username'], credentials['password'], 8770)\n",
    "\n",
    "name = 'wallet.0'\n",
    "tdb = pickledb.load('tx.json', True)\n",
    "\n",
    "if not tdb.exists(name): tdb.lcreate(name)\n",
    "\n",
    "\n",
    "\n",
    "recipients = {address: round(bal/randint(35000, 45000), 8) for address in addresses}\n",
    "\n",
    "tx = rpc.sendmany('', recipients, 1, '', addresses)\n",
    "if not tx: pass\n",
    "else: tdb.append(name, [tx])\n",
    "print(f'{tx}\\n{recipients}')"
   ]
  },
  {
   "cell_type": "code",
   "execution_count": null,
   "metadata": {},
   "outputs": [],
   "source": [
    "# rpc = Call(credentials['username'], credentials['password'], 8770)\n",
    "\n",
    "rpc.walletlock()"
   ]
  },
  {
   "cell_type": "code",
   "execution_count": null,
   "metadata": {},
   "outputs": [],
   "source": [
    "# rpc = Call(credentials['username'], credentials['password'], 8770)\n",
    "\n",
    "# txs = tdb.lgetall('wallet.0')\n",
    "# rpc.gettransaction(txs[-1])['details']\n",
    "\n",
    "rpc.gettransaction('4bef8d65e7c223a3f015789cfb3bc250995893c9c9fd198e80e6891d006811e8')"
   ]
  },
  {
   "cell_type": "code",
   "execution_count": null,
   "metadata": {
    "tags": [
     "WalletDB"
    ]
   },
   "outputs": [],
   "source": [
    "# rpc = Call(Client(), credentials['username'], credentials['password'], 8770)\n",
    "\n",
    "# addresses = db.get(account)\n",
    "# \n",
    "# \n",
    "# \n",
    "# \n",
    "# denominator = len(addresses) - 1\n",
    "# recipients = {address: round(balance/denominator, 8) for address in addresses}\n",
    "# tx = rpc.sendmany(account, recipients, 1, '', addresses)\n",
    "\n",
    "\n",
    "with ThreadPoolExecutor() as executor: pass"
   ]
  },
  {
   "cell_type": "code",
   "execution_count": null,
   "metadata": {},
   "outputs": [],
   "source": [
    "\n",
    "# def load_db(filename): return pickledb.load(f'{filename}.json', True)\n",
    "# db = load_db('addresses')\n",
    "\n",
    "\n",
    "with ThreadPoolExecutor() as executor: pass\n",
    "# def lexists_seq(name, data):\n",
    "#     if type(data) is list | tuple:\n",
    "#         for d in data: \n",
    "#             pass\n",
    "#     \n",
    "# def lexists_ladd(self, name, data): \n",
    "#     if not db.lexists(name, data): db.ladd(name, data)\n",
    "# def save_addresses(account): rpc.getaddressesbyaccount(account)\n",
    "# \n",
    "# \n",
    "# def add_list(self, name, data):\n",
    "#     if not db.exists(name): db.lcreate(name)\n",
    "# db.append('joshie', ['2'])\n",
    "cache = []\n",
    "\n",
    "# for address in db.lgetall('joshie'):\n",
    "#     print(address)\n",
    "# list_accounts(rpc)"
   ]
  },
  {
   "cell_type": "code",
   "execution_count": null,
   "metadata": {},
   "outputs": [],
   "source": [
    "rpc = Call(credentials['username'], credentials['password'], 8770)\n",
    "\n",
    "file = Path.absolute(Path('foxd_assets.json'))\n",
    "db = pickledb.load(file, True)\n",
    "search = 'ENO'\n",
    "\n",
    "def is_valid_asset(asset):\n",
    "    if db.exists(asset):\n",
    "        print(db.get(search))\n",
    "        return True\n",
    "    for key, value in rpc.listassets(search, True):\n",
    "        db.set(key, value)\n",
    "        if key is search: return True\n",
    "    return False\n",
    "is_valid_asset(search)"
   ]
  },
  {
   "cell_type": "code",
   "execution_count": null,
   "metadata": {},
   "outputs": [],
   "source": [
    "from hashlib import new\n",
    "def ripemd160(data): return new('ripemd160', data)\n",
    "ripemd160(b'hello').hexdigest()"
   ]
  }
 ],
 "metadata": {
  "kernelspec": {
   "display_name": "Python 3",
   "language": "python",
   "name": "python3"
  },
  "language_info": {
   "codemirror_mode": {
    "name": "ipython",
    "version": 3
   },
   "file_extension": ".py",
   "mimetype": "text/x-python",
   "name": "python",
   "nbconvert_exporter": "python",
   "pygments_lexer": "ipython3",
   "version": "3.10.10"
  },
  "orig_nbformat": 4
 },
 "nbformat": 4,
 "nbformat_minor": 2
}
