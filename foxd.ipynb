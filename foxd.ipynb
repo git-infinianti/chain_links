{
 "cells": [
  {
   "cell_type": "code",
   "execution_count": 1,
   "metadata": {},
   "outputs": [
    {
     "ename": "FileNotFoundError",
     "evalue": "[Errno 2] No such file or directory: 'c:\\\\Users\\\\infan\\\\Documents\\\\Python Scripts\\\\chains\\\\chain_params\\\\burn_avn.json'",
     "output_type": "error",
     "traceback": [
      "\u001b[1;31m---------------------------------------------------------------------------\u001b[0m",
      "\u001b[1;31mFileNotFoundError\u001b[0m                         Traceback (most recent call last)",
      "Cell \u001b[1;32mIn[1], line 4\u001b[0m\n\u001b[0;32m      2\u001b[0m \u001b[39mfrom\u001b[39;00m \u001b[39mhdwallet\u001b[39;00m\u001b[39m.\u001b[39;00m\u001b[39msymbols\u001b[39;00m \u001b[39mimport\u001b[39;00m FOXD\n\u001b[0;32m      3\u001b[0m \u001b[39mfrom\u001b[39;00m \u001b[39mhdwallet\u001b[39;00m\u001b[39m.\u001b[39;00m\u001b[39mcryptocurrencies\u001b[39;00m \u001b[39mimport\u001b[39;00m get_cryptocurrency\n\u001b[1;32m----> 4\u001b[0m \u001b[39mfrom\u001b[39;00m \u001b[39msrc\u001b[39;00m\u001b[39m.\u001b[39;00m\u001b[39mrpc\u001b[39;00m \u001b[39mimport\u001b[39;00m RPC, get_address_utxos\n\u001b[0;32m      5\u001b[0m \u001b[39mfrom\u001b[39;00m \u001b[39m__data__\u001b[39;00m \u001b[39mimport\u001b[39;00m credentials, mnemonic, settings, sighash\n\u001b[0;32m      8\u001b[0m rpc \u001b[39m=\u001b[39m RPC(credentials[\u001b[39m'\u001b[39m\u001b[39musername\u001b[39m\u001b[39m'\u001b[39m], credentials[\u001b[39m'\u001b[39m\u001b[39mpassword\u001b[39m\u001b[39m'\u001b[39m], \u001b[39m8770\u001b[39m)\n",
      "File \u001b[1;32mc:\\Users\\infan\\Documents\\Python Scripts\\chains\\src\\__init__.py:1\u001b[0m\n\u001b[1;32m----> 1\u001b[0m \u001b[39mfrom\u001b[39;00m \u001b[39msrc\u001b[39;00m \u001b[39mimport\u001b[39;00m chain_params\n",
      "File \u001b[1;32mc:\\Users\\infan\\Documents\\Python Scripts\\chains\\src\\chain_params\\__init__.py:8\u001b[0m\n\u001b[0;32m      6\u001b[0m \u001b[39mvars\u001b[39m \u001b[39m=\u001b[39m [f\u001b[39m.\u001b[39msplit(\u001b[39m'\u001b[39m\u001b[39m.\u001b[39m\u001b[39m'\u001b[39m)[\u001b[39m0\u001b[39m] \u001b[39mfor\u001b[39;00m f \u001b[39min\u001b[39;00m listdir(abspath(join(pdir, fdir))) \u001b[39mif\u001b[39;00m ftype \u001b[39min\u001b[39;00m f]\n\u001b[0;32m      7\u001b[0m \u001b[39mfor\u001b[39;00m var \u001b[39min\u001b[39;00m \u001b[39mvars\u001b[39m:\n\u001b[1;32m----> 8\u001b[0m     \u001b[39mwith\u001b[39;00m \u001b[39mopen\u001b[39;49m(abspath(\u001b[39mf\u001b[39;49m\u001b[39m'\u001b[39;49m\u001b[39m{\u001b[39;49;00mfdir\u001b[39m}\u001b[39;49;00m\u001b[39m/\u001b[39;49m\u001b[39m{\u001b[39;49;00mvar\u001b[39m}\u001b[39;49;00m\u001b[39m.\u001b[39;49m\u001b[39m{\u001b[39;49;00mftype\u001b[39m}\u001b[39;49;00m\u001b[39m'\u001b[39;49m), \u001b[39m'\u001b[39;49m\u001b[39mr\u001b[39;49m\u001b[39m'\u001b[39;49m) \u001b[39mas\u001b[39;00m file:\n\u001b[0;32m      9\u001b[0m         exec(\u001b[39mf\u001b[39m\u001b[39m'\u001b[39m\u001b[39m{\u001b[39;00mvar\u001b[39m}\u001b[39;00m\u001b[39m = \u001b[39m\u001b[39m{\u001b[39;00mload(file)\u001b[39m}\u001b[39;00m\u001b[39m'\u001b[39m)\n",
      "\u001b[1;31mFileNotFoundError\u001b[0m: [Errno 2] No such file or directory: 'c:\\\\Users\\\\infan\\\\Documents\\\\Python Scripts\\\\chains\\\\chain_params\\\\burn_avn.json'"
     ]
    }
   ],
   "source": [
    "from hdwallet import BIP141HDWallet\n",
    "from hdwallet.symbols import FOXD\n",
    "from hdwallet.cryptocurrencies import get_cryptocurrency\n",
    "from src.rpc import RPC, get_address_utxos\n",
    "from __data__ import credentials, mnemonic, settings, sighash\n",
    "\n",
    "\n",
    "rpc = RPC(credentials['username'], credentials['password'], 8770)\n",
    "sighash_types = sighash\n",
    "language = settings['language']\n",
    "password = settings['password']\n",
    "phrase = mnemonic[-1]"
   ]
  },
  {
   "cell_type": "code",
   "execution_count": 7,
   "metadata": {},
   "outputs": [],
   "source": [
    "# wallet = BIP44HDWallet(FOXD, get_cryptocurrency(FOXD))\n",
    "# wallet.from_mnemonic(PHRASE, LANGUAGE, PASSWORD)\n",
    "# wallet.dumps()['addresses']"
   ]
  },
  {
   "cell_type": "code",
   "execution_count": 12,
   "metadata": {},
   "outputs": [
    {
     "data": {
      "text/plain": [
       "{'p2pkh': 'FF9y6S2an9CjTkhrv9oGYU8YLWNfMMLEkZ',\n",
       " 'p2sh': 'D7ZH91bXj6aXyxZJGz4kDmMASotf1761oE',\n",
       " 'p2wpkh': 'fx1dve9qew0e6apy3wnwxwthmmkdv3lp7yq89t9g79',\n",
       " 'p2wpkh_in_p2sh': 'DK1dNjCJuURNnrp8YnTjeb6wDsrVwpozyD',\n",
       " 'p2wsh': 'fx1d8w2lvc9cwharslmgz2rwyrrgyma9u3exhtcvv3ac6w6q5tvxxh5qzxcxyh',\n",
       " 'p2wsh_in_p2sh': 'DNWYfjS8TNwK1gQqDUMmozQRi6wNHDbNLV'}"
      ]
     },
     "execution_count": 12,
     "metadata": {},
     "output_type": "execute_result"
    }
   ],
   "source": [
    "path = [\n",
    "    lambda a, b, c: f\"m/44'/175'/{a}'/{b}/{c}\"\n",
    "]\n",
    "wallet = BIP141HDWallet(FOXD, get_cryptocurrency(FOXD), path[0](0, 2, 1))\n",
    "wallet.from_mnemonic(phrase, language, password)\n",
    "wallet.dumps()['addresses']"
   ]
  },
  {
   "cell_type": "code",
   "execution_count": 25,
   "metadata": {},
   "outputs": [
    {
     "data": {
      "text/plain": [
       "{'balance': 1000014705882, 'received': 1000014705882}"
      ]
     },
     "execution_count": 25,
     "metadata": {},
     "output_type": "execute_result"
    }
   ],
   "source": [
    "rpc.getaddressbalance('FJWtzuU2HcJsCMt57NMQeZCfY9KgxLKrBj')"
   ]
  },
  {
   "cell_type": "code",
   "execution_count": 26,
   "metadata": {},
   "outputs": [
    {
     "data": {
      "text/plain": [
       "[{'address': 'FJWtzuU2HcJsCMt57NMQeZCfY9KgxLKrBj',\n",
       "  'assetName': 'FOXD',\n",
       "  'txid': '101e7c86b99a503b72fdcd1c89d88ed4d16cdb2305bbfd6641337cf6550a7235',\n",
       "  'outputIndex': 1,\n",
       "  'script': '76a9148b27be62181424c37ba5bfdfa061a3f800e50a3888ac',\n",
       "  'satoshis': 1000000000000,\n",
       "  'height': 1647207},\n",
       " {'address': 'FF9y6S2an9CjTkhrv9oGYU8YLWNfMMLEkZ',\n",
       "  'assetName': 'FOXD',\n",
       "  'txid': '1c018886dfcb2b858109e53145f044355f52b55a84f9224461533ddb1e6a7a3a',\n",
       "  'outputIndex': 1,\n",
       "  'script': '76a914664a0cb9f9d74248ba6e33977deecd647e1f100788ac',\n",
       "  'satoshis': 500000000,\n",
       "  'height': 1649303},\n",
       " {'address': 'FJWtzuU2HcJsCMt57NMQeZCfY9KgxLKrBj',\n",
       "  'assetName': 'FOXD',\n",
       "  'txid': 'a13f71d82e496cd1d4192345fd5040ad9bab5c68a7c9a5adc5599218b39de29d',\n",
       "  'outputIndex': 0,\n",
       "  'script': '76a9148b27be62181424c37ba5bfdfa061a3f800e50a3888ac',\n",
       "  'satoshis': 14705882,\n",
       "  'height': 1649308}]"
      ]
     },
     "execution_count": 26,
     "metadata": {},
     "output_type": "execute_result"
    }
   ],
   "source": [
    "get_address_utxos(rpc, ['FJWtzuU2HcJsCMt57NMQeZCfY9KgxLKrBj', wallet.p2pkh_address()])"
   ]
  },
  {
   "cell_type": "code",
   "execution_count": 20,
   "metadata": {},
   "outputs": [
    {
     "data": {
      "text/plain": [
       "10000.0"
      ]
     },
     "execution_count": 20,
     "metadata": {},
     "output_type": "execute_result"
    }
   ],
   "source": [
    "1000000000000 / 1e8"
   ]
  },
  {
   "cell_type": "code",
   "execution_count": null,
   "metadata": {},
   "outputs": [
    {
     "data": {
      "text/plain": [
       "'108f07b8382412612c048d07d13f814118445acd'"
      ]
     },
     "execution_count": 15,
     "metadata": {},
     "output_type": "execute_result"
    }
   ],
   "source": [
    "from hashlib import new\n",
    "def ripemd160(data): return new('ripemd160', data)\n",
    "ripemd160(b'hello').hexdigest()"
   ]
  },
  {
   "cell_type": "code",
   "execution_count": 6,
   "metadata": {},
   "outputs": [],
   "source": [
    "from hdwallet.libs.bech32 import (\n",
    "    decode\n",
    ")\n",
    "p2wsh = wallet.p2wsh_address()\n"
   ]
  }
 ],
 "metadata": {
  "kernelspec": {
   "display_name": "Python 3",
   "language": "python",
   "name": "python3"
  },
  "language_info": {
   "codemirror_mode": {
    "name": "ipython",
    "version": 3
   },
   "file_extension": ".py",
   "mimetype": "text/x-python",
   "name": "python",
   "nbconvert_exporter": "python",
   "pygments_lexer": "ipython3",
   "version": "3.10.10"
  },
  "orig_nbformat": 4
 },
 "nbformat": 4,
 "nbformat_minor": 2
}
